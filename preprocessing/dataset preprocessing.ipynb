{
 "cells": [
  {
   "cell_type": "code",
   "execution_count": 10,
   "metadata": {
    "collapsed": true
   },
   "outputs": [],
   "source": [
    "import glob, os\n",
    "import numpy as np\n",
    "import re\n",
    "import matplotlib.pyplot as plt\n",
    "import matplotlib\n",
    "from collections import Counter"
   ]
  },
  {
   "cell_type": "code",
   "execution_count": 11,
   "metadata": {
    "collapsed": true
   },
   "outputs": [],
   "source": [
    "cleaned_path = '../dataset/cleaned/'\n",
    "raw_path = '../dataset/McGill-Billboard/'\n",
    "files = glob.glob(raw_path + '/**/*.txt', recursive=True)"
   ]
  },
  {
   "cell_type": "code",
   "execution_count": 12,
   "metadata": {
    "collapsed": true
   },
   "outputs": [],
   "source": [
    "# Convert letter keys into numeric values, relative to the tonic\n",
    "def key2num(string):\n",
    "    return (string.replace('A#', '1').replace('Ab', '11')\n",
    "            .replace('B#', '3').replace('Bb', '1')\n",
    "            .replace('C#', '4').replace('Cb', '2')\n",
    "            .replace('D#', '6').replace('Db', '4')\n",
    "            .replace('E#', '8').replace('Eb', '6')\n",
    "            .replace('F#', '9').replace('Fb', '7')\n",
    "            .replace('G#', '11').replace('Gb', '9')\n",
    "            .replace('A', '0')\n",
    "            .replace('B', '2')\n",
    "            .replace('C', '3')\n",
    "            .replace('D', '5')\n",
    "            .replace('E', '7')\n",
    "            .replace('F', '8')\n",
    "            .replace('G', '10'))"
   ]
  },
  {
   "cell_type": "markdown",
   "metadata": {},
   "source": [
    "# Raw data import + preprocess"
   ]
  },
  {
   "cell_type": "code",
   "execution_count": 88,
   "metadata": {},
   "outputs": [
    {
     "name": "stdout",
     "output_type": "stream",
     "text": [
      "['0018' 'C'\n",
      " array([['0', 'maj'],\n",
      "       ['7', 'maj/11'],\n",
      "       ['9', 'min/b3'],\n",
      "       ['7', 'maj/11'],\n",
      "       ['0', 'min7'],\n",
      "       ['0', 'min7'],\n",
      "       ['5', 'maj'],\n",
      "       ['5', 'maj'],\n",
      "       ['0', 'maj'],\n",
      "       ['0', 'maj']],\n",
      "      dtype='<U21')\n",
      " array([['0', 'min'],\n",
      "       ['0', 'min'],\n",
      "       ['5', 'min'],\n",
      "       ['5', 'min'],\n",
      "       ['8', 'maj'],\n",
      "       ['10', 'maj'],\n",
      "       ['0', 'maj(9)'],\n",
      "       ['0', 'maj(9)'],\n",
      "       ['0', 'min'],\n",
      "       ['0', 'min'],\n",
      "       ['5', 'min'],\n",
      "       ['5', 'min'],\n",
      "       ['8', 'maj'],\n",
      "       ['10', 'maj'],\n",
      "       ['0', 'maj(9)'],\n",
      "       ['0', 'maj(9)']],\n",
      "      dtype='<U21')]\n"
     ]
    }
   ],
   "source": [
    "# Get all the raw data into a python list\n",
    "all_data = np.empty((890, 3), dtype=object)\n",
    "all_num_data = np.empty((890, 4), dtype=object)\n",
    "\n",
    "for i in range(890):\n",
    "\n",
    "    with open(files[i], 'r') as myfile: #r for reading\n",
    "        data = myfile.read().replace('\\n', ' ').replace('\\t', ' ') #removes tabs and line jumps\n",
    "\n",
    "     \n",
    "    index = re.findall(r'\\d+',files[i])[0]\n",
    "    \n",
    "    \n",
    "    \n",
    "    chord_list = re.findall(\"[^ ]+:[^ ]+\", data) \n",
    "    tonic = re.findall(\"tonic: [^ ]+\", data)[0].replace(\"tonic: \", \"\")\n",
    "    \n",
    "    #We split the chorus\n",
    "    chorus=re.split(' chorus',data)#space before chorus to avoid prechorus\n",
    "    if (len(chorus) > 1): \n",
    "        chorus = re.split(\"intro|outro|verse|chorus|instrumental|bridge|solo|interlude|pre-chorus|coda|prechorus|fadeout\",chorus[1])[0]\n",
    "    else:\n",
    "        chorus = \"\"    \n",
    "    \n",
    "    \n",
    "    chorus=key2num(chorus)\n",
    "\n",
    "    num_tonic = int(re.findall(\"tonic: [^ ]+\", num_data)[0].replace(\"tonic: \", \"\"))\n",
    "    \n",
    "    num_chorus_chord_list1 = re.findall(\"[0-9]+:\", chorus)\n",
    "    num_chorus_chord_list1 = [(int(element.replace(\":\", \"\"))-num_tonic)%12 for element in num_chorus_chord_list1]#we transpose everything to C\n",
    "    num_chorus_chord_list2 = re.findall(\":[^ ]+\", chorus)\n",
    "    num_chorus_chord_list2 = [element.replace(\":\", \"\") for element in num_chorus_chord_list2]\n",
    "    \n",
    "    #We split the verse\n",
    "    verse=re.split(' verse',data)#space before chorus to avoid prechorus\n",
    "    if (len(verse) > 1): \n",
    "        verse = re.split(\"intro|outro|verse|chorus|instrumental|bridge|solo|interlude|pre-chorus|coda|prechorus|fadeout\",verse[1])[0]\n",
    "    else:\n",
    "        verse = \"\"    \n",
    "    \n",
    "    \n",
    "    verse=key2num(verse)\n",
    "\n",
    "    num_tonic = int(re.findall(\"tonic: [^ ]+\", num_data)[0].replace(\"tonic: \", \"\"))\n",
    "    \n",
    "    num_verse_chord_list1 = re.findall(\"[0-9]+:\", verse)\n",
    "    num_verse_chord_list1 = [(int(element.replace(\":\", \"\"))-num_tonic)%12 for element in num_verse_chord_list1]#we transpose everything to C\n",
    "    num_verse_chord_list2 = re.findall(\":[^ ]+\", verse)\n",
    "    num_verse_chord_list2 = [element.replace(\":\", \"\") for element in num_verse_chord_list2]\n",
    "\n",
    "    all_data[i] =  (index, tonic, chord_list)\n",
    "    all_num_data[i] = (index, tonic, np.dstack((num_chorus_chord_list1, num_chorus_chord_list2))[0],np.dstack((num_verse_chord_list1, num_verse_chord_list2))[0])\n",
    "print(all_num_data[7])"
   ]
  },
  {
   "cell_type": "code",
   "execution_count": 5,
   "metadata": {
    "collapsed": true
   },
   "outputs": [],
   "source": [
    "import csv\n",
    "\n",
    "with open('../dataset/index.csv') as csv_file:\n",
    "    csv_reader = csv.reader(csv_file, delimiter=',')\n",
    "    csv_list = np.asarray(list(csv_reader), dtype=object)\n",
    "csv_list = np.take(csv_list, [0,1,4,5], axis=1 )"
   ]
  },
  {
   "cell_type": "code",
   "execution_count": 27,
   "metadata": {},
   "outputs": [
    {
     "name": "stdout",
     "output_type": "stream",
     "text": [
      "[['3' '7/3/1961' \"I Don't Mind\" 'James Brown' 'C'\n",
      "  array([['9', 'min'],\n",
      "       ['9', 'min'],\n",
      "       ['0', 'maj'],\n",
      "       ['0', 'maj'],\n",
      "       ['9', 'min'],\n",
      "       ['9', 'min'],\n",
      "       ['0', 'maj'],\n",
      "       ['0', 'maj'],\n",
      "       ['9', 'min'],\n",
      "       ['9', 'min'],\n",
      "       ['0', 'maj'],\n",
      "       ['0', 'maj'],\n",
      "       ['9', 'min'],\n",
      "       ['9', 'min'],\n",
      "       ['0', 'maj'],\n",
      "       ['0', 'maj'],\n",
      "       ['9', 'min'],\n",
      "       ['9', 'min'],\n",
      "       ['0', 'maj'],\n",
      "       ['0', 'maj'],\n",
      "       ['5', 'maj'],\n",
      "       ['5', 'maj'],\n",
      "       ['2', 'maj'],\n",
      "       ['2', 'maj'],\n",
      "       ['7', 'maj'],\n",
      "       ['7', 'maj'],\n",
      "       ['0', 'maj'],\n",
      "       ['0', 'maj'],\n",
      "       ['9', 'maj'],\n",
      "       ['9', 'maj'],\n",
      "       ['0', 'maj'],\n",
      "       ['0', 'maj'],\n",
      "       ['9', 'maj'],\n",
      "       ['9', 'maj'],\n",
      "       ['0', 'maj'],\n",
      "       ['0', 'maj'],\n",
      "       ['5', 'maj'],\n",
      "       ['5', 'maj'],\n",
      "       ['2', 'maj'],\n",
      "       ['2', 'maj'],\n",
      "       ['7', 'maj'],\n",
      "       ['7', 'maj'],\n",
      "       ['0', 'maj'],\n",
      "       ['0', 'maj'],\n",
      "       ['9', 'min'],\n",
      "       ['9', 'min'],\n",
      "       ['0', 'maj'],\n",
      "       ['0', 'maj'],\n",
      "       ['9', 'min'],\n",
      "       ['9', 'min'],\n",
      "       ['0', 'maj'],\n",
      "       ['0', 'maj'],\n",
      "       ['5', 'maj'],\n",
      "       ['5', 'maj'],\n",
      "       ['2', 'maj'],\n",
      "       ['2', 'maj'],\n",
      "       ['7', 'maj'],\n",
      "       ['7', 'maj'],\n",
      "       ['0', 'maj'],\n",
      "       ['0', 'maj'],\n",
      "       ['9', 'maj'],\n",
      "       ['9', 'maj'],\n",
      "       ['0', 'maj'],\n",
      "       ['0', 'maj'],\n",
      "       ['9', 'maj'],\n",
      "       ['9', 'maj'],\n",
      "       ['0', 'maj'],\n",
      "       ['0', 'maj'],\n",
      "       ['5', 'maj'],\n",
      "       ['5', 'maj'],\n",
      "       ['2', 'maj'],\n",
      "       ['2', 'maj'],\n",
      "       ['7', 'maj'],\n",
      "       ['7', 'maj'],\n",
      "       ['0', 'maj'],\n",
      "       ['0', 'maj'],\n",
      "       ['9', 'min'],\n",
      "       ['9', 'min'],\n",
      "       ['0', 'maj'],\n",
      "       ['0', 'maj'],\n",
      "       ['9', 'min'],\n",
      "       ['9', 'min'],\n",
      "       ['0', 'maj'],\n",
      "       ['0', 'maj'],\n",
      "       ['9', 'min']],\n",
      "      dtype='<U21')]\n",
      " ['4' '8/7/1971' \"You've Got A Friend\" 'Roberta Flack,Donny Hathaway' 'Ab'\n",
      "  array([['0', 'maj'],\n",
      "       ['5', 'maj/5'],\n",
      "       ['0', 'maj'],\n",
      "       ['11', 'hdim7'],\n",
      "       ['4', '7'],\n",
      "       ['9', 'min'],\n",
      "       ['4', '7/5'],\n",
      "       ['4', '7'],\n",
      "       ['9', 'min'],\n",
      "       ['4', '7/5'],\n",
      "       ['9', 'min/b3'],\n",
      "       ['4', '7/5'],\n",
      "       ['9', 'min'],\n",
      "       ['2', 'min7'],\n",
      "       ['7', '7'],\n",
      "       ['0', 'maj'],\n",
      "       ['0', 'maj'],\n",
      "       ['11', 'hdim7'],\n",
      "       ['4', '7'],\n",
      "       ['9', 'min'],\n",
      "       ['4', '7/5'],\n",
      "       ['9', 'min/b3'],\n",
      "       ['4', '7/5'],\n",
      "       ['9', 'min'],\n",
      "       ['2', 'min7'],\n",
      "       ['4', 'min7'],\n",
      "       ['7', '11'],\n",
      "       ['7', 'maj'],\n",
      "       ['0', 'maj'],\n",
      "       ['0', '7'],\n",
      "       ['5', 'maj'],\n",
      "       ['5', 'maj'],\n",
      "       ['0', 'maj'],\n",
      "       ['0', 'maj'],\n",
      "       ['7', '7'],\n",
      "       ['7', '7'],\n",
      "       ['0', 'maj'],\n",
      "       ['0', 'maj7'],\n",
      "       ['5', 'maj'],\n",
      "       ['10', 'maj'],\n",
      "       ['5', 'maj'],\n",
      "       ['5', 'maj7'],\n",
      "       ['4', 'min7'],\n",
      "       ['2', 'min7'],\n",
      "       ['0', 'maj'],\n",
      "       ['10', 'maj(9)'],\n",
      "       ['5', 'maj'],\n",
      "       ['0', 'maj'],\n",
      "       ['0', 'maj'],\n",
      "       ['5', 'maj'],\n",
      "       ['10', '7'],\n",
      "       ['9', 'min7'],\n",
      "       ['2', 'min7'],\n",
      "       ['7', '11'],\n",
      "       ['7', 'maj'],\n",
      "       ['0', 'maj'],\n",
      "       ['0', '7'],\n",
      "       ['5', 'maj'],\n",
      "       ['5', 'maj'],\n",
      "       ['0', 'maj'],\n",
      "       ['0', 'maj'],\n",
      "       ['7', '7'],\n",
      "       ['7', '7'],\n",
      "       ['0', 'maj'],\n",
      "       ['0', 'maj7'],\n",
      "       ['5', 'maj'],\n",
      "       ['10', 'maj'],\n",
      "       ['5', 'maj'],\n",
      "       ['5', 'maj7'],\n",
      "       ['4', 'min7'],\n",
      "       ['2', 'min7'],\n",
      "       ['0', 'maj'],\n",
      "       ['5', 'maj/5'],\n",
      "       ['0', 'maj'],\n",
      "       ['5', 'maj/5'],\n",
      "       ['0', 'maj'],\n",
      "       ['5', 'maj/5'],\n",
      "       ['0', 'maj'],\n",
      "       ['5', 'maj/5'],\n",
      "       ['0', 'maj'],\n",
      "       ['5', 'maj/5'],\n",
      "       ['0', 'maj'],\n",
      "       ['5', 'maj/5']],\n",
      "      dtype='<U21')]\n",
      " ['6' '8/2/1980' 'The Rose' 'Bette Midler' 'C'\n",
      "  array([['0', '5'],\n",
      "       ['0', 'maj'],\n",
      "       ['7', 'maj/3'],\n",
      "       ['5', 'maj/3'],\n",
      "       ['7', 'maj/3'],\n",
      "       ['0', 'maj'],\n",
      "       ['0', 'maj'],\n",
      "       ['7', 'maj/3'],\n",
      "       ['5', 'maj/3'],\n",
      "       ['7', 'maj/3'],\n",
      "       ['0', 'maj'],\n",
      "       ['0', 'maj/7'],\n",
      "       ['5', 'sus2/3'],\n",
      "       ['5', 'maj/3'],\n",
      "       ['5', 'maj/9'],\n",
      "       ['7', '7'],\n",
      "       ['0', 'maj'],\n",
      "       ['7', 'maj/3'],\n",
      "       ['5', 'maj/3'],\n",
      "       ['7', 'maj'],\n",
      "       ['0', 'maj(9)'],\n",
      "       ['0', 'maj(9)'],\n",
      "       ['0', 'maj(9)'],\n",
      "       ['7', 'maj(9)'],\n",
      "       ['5', 'maj(9)'],\n",
      "       ['7', 'maj'],\n",
      "       ['0', 'maj(9)'],\n",
      "       ['0', 'maj(9)'],\n",
      "       ['7', 'maj(9)'],\n",
      "       ['5', 'maj(9)'],\n",
      "       ['7', 'maj'],\n",
      "       ['0', 'maj(9)'],\n",
      "       ['4', 'min/5'],\n",
      "       ['9', 'min(11)'],\n",
      "       ['9', 'maj(11)/b7'],\n",
      "       ['5', 'maj(9)'],\n",
      "       ['7', 'maj'],\n",
      "       ['0', 'maj(9)'],\n",
      "       ['7', 'maj(9)'],\n",
      "       ['5', 'maj(9)'],\n",
      "       ['7', 'maj'],\n",
      "       ['0', 'maj'],\n",
      "       ['0', 'maj'],\n",
      "       ['0', 'maj'],\n",
      "       ['7', 'maj'],\n",
      "       ['5', 'maj'],\n",
      "       ['7', 'maj'],\n",
      "       ['0', 'maj'],\n",
      "       ['0', 'maj'],\n",
      "       ['7', 'maj'],\n",
      "       ['5', 'maj'],\n",
      "       ['7', 'maj'],\n",
      "       ['0', 'maj'],\n",
      "       ['4', 'min'],\n",
      "       ['9', 'min(11)'],\n",
      "       ['5', 'maj(9)'],\n",
      "       ['7', 'maj(9)'],\n",
      "       ['0', 'maj(9)'],\n",
      "       ['7', 'maj(9)'],\n",
      "       ['5', 'maj(9)'],\n",
      "       ['7', 'maj'],\n",
      "       ['0', 'maj(9)'],\n",
      "       ['0', 'maj(9)'],\n",
      "       ['0', 'maj(9)'],\n",
      "       ['0', 'maj']],\n",
      "      dtype='<U21')]\n",
      " ..., \n",
      " ['1296' '7/2/1983' 'White Wedding' 'Billy Idol' 'B'\n",
      "  array([['0', 'min'],\n",
      "       ['0', 'min'],\n",
      "       ['0', 'min'],\n",
      "       ['0', 'min'],\n",
      "       ['0', 'min'],\n",
      "       ['0', 'min'],\n",
      "       ['5', 'maj'],\n",
      "       ['3', 'maj'],\n",
      "       ['0', 'min'],\n",
      "       ['0', 'min'],\n",
      "       ['3', 'maj'],\n",
      "       ['5', 'maj'],\n",
      "       ['0', 'min7'],\n",
      "       ['0', 'min7'],\n",
      "       ['0', 'min'],\n",
      "       ['0', 'min'],\n",
      "       ['0', '5'],\n",
      "       ['0', '5'],\n",
      "       ['10', '5'],\n",
      "       ['5', '5'],\n",
      "       ['0', '5'],\n",
      "       ['0', '5'],\n",
      "       ['10', '5'],\n",
      "       ['5', '5'],\n",
      "       ['0', '5'],\n",
      "       ['0', '5'],\n",
      "       ['10', '5'],\n",
      "       ['10', '5'],\n",
      "       ['0', '5'],\n",
      "       ['0', '5'],\n",
      "       ['10', 'maj'],\n",
      "       ['5', 'maj'],\n",
      "       ['0', 'min'],\n",
      "       ['0', 'min'],\n",
      "       ['5', 'maj'],\n",
      "       ['3', 'maj'],\n",
      "       ['0', 'min'],\n",
      "       ['0', 'min'],\n",
      "       ['5', 'maj'],\n",
      "       ['3', 'maj'],\n",
      "       ['0', 'min'],\n",
      "       ['0', 'min'],\n",
      "       ['0', 'min'],\n",
      "       ['0', 'min'],\n",
      "       ['10', 'maj'],\n",
      "       ['5', 'maj'],\n",
      "       ['0', 'min'],\n",
      "       ['0', 'min'],\n",
      "       ['10', 'maj'],\n",
      "       ['5', 'maj'],\n",
      "       ['0', 'min'],\n",
      "       ['0', 'min'],\n",
      "       ['10', 'maj'],\n",
      "       ['10', 'maj'],\n",
      "       ['0', 'min'],\n",
      "       ['0', 'min'],\n",
      "       ['10', 'maj'],\n",
      "       ['5', 'maj'],\n",
      "       ['0', 'min'],\n",
      "       ['0', 'min'],\n",
      "       ['5', 'maj'],\n",
      "       ['3', 'maj'],\n",
      "       ['0', 'min'],\n",
      "       ['0', 'min'],\n",
      "       ['5', 'maj'],\n",
      "       ['3', 'maj'],\n",
      "       ['0', 'min'],\n",
      "       ['0', 'min'],\n",
      "       ['0', 'min'],\n",
      "       ['0', 'min'],\n",
      "       ['0', 'min'],\n",
      "       ['0', 'min'],\n",
      "       ['5', 'maj'],\n",
      "       ['3', 'maj'],\n",
      "       ['0', 'min'],\n",
      "       ['0', 'min'],\n",
      "       ['3', 'maj'],\n",
      "       ['5', 'maj'],\n",
      "       ['0', 'min'],\n",
      "       ['0', 'min'],\n",
      "       ['0', 'min/11'],\n",
      "       ['0', 'min/11'],\n",
      "       ['0', 'min'],\n",
      "       ['0', 'min'],\n",
      "       ['3', 'maj'],\n",
      "       ['5', 'maj'],\n",
      "       ['0', 'min9'],\n",
      "       ['0', 'min9'],\n",
      "       ['10', 'maj'],\n",
      "       ['5', 'maj'],\n",
      "       ['0', 'min'],\n",
      "       ['0', 'min'],\n",
      "       ['0', 'min'],\n",
      "       ['0', 'min'],\n",
      "       ['10', 'maj'],\n",
      "       ['5', 'maj'],\n",
      "       ['0', 'min'],\n",
      "       ['0', 'min'],\n",
      "       ['10', 'maj'],\n",
      "       ['5', 'maj'],\n",
      "       ['0', 'min'],\n",
      "       ['0', 'min'],\n",
      "       ['10', 'maj'],\n",
      "       ['10', 'maj'],\n",
      "       ['0', 'min'],\n",
      "       ['0', 'min'],\n",
      "       ['10', 'maj'],\n",
      "       ['5', 'maj'],\n",
      "       ['0', 'min'],\n",
      "       ['0', 'min'],\n",
      "       ['5', 'maj'],\n",
      "       ['3', 'maj'],\n",
      "       ['0', 'min'],\n",
      "       ['0', 'min'],\n",
      "       ['5', 'maj'],\n",
      "       ['3', 'maj'],\n",
      "       ['0', 'min'],\n",
      "       ['0', 'min'],\n",
      "       ['0', 'min'],\n",
      "       ['0', 'min'],\n",
      "       ['0', 'min'],\n",
      "       ['0', 'min'],\n",
      "       ['0', 'min'],\n",
      "       ['0', 'min'],\n",
      "       ['0', 'min'],\n",
      "       ['0', 'min'],\n",
      "       ['0', 'min'],\n",
      "       ['0', 'min'],\n",
      "       ['0', 'min'],\n",
      "       ['0', 'min'],\n",
      "       ['0', 'min'],\n",
      "       ['0', 'min'],\n",
      "       ['0', 'min'],\n",
      "       ['0', 'min'],\n",
      "       ['5', 'maj'],\n",
      "       ['3', 'maj'],\n",
      "       ['0', 'min'],\n",
      "       ['0', 'min'],\n",
      "       ['3', 'maj'],\n",
      "       ['5', 'maj'],\n",
      "       ['0', 'min'],\n",
      "       ['0', 'min'],\n",
      "       ['5', 'maj'],\n",
      "       ['3', 'maj'],\n",
      "       ['0', 'min'],\n",
      "       ['0', 'min'],\n",
      "       ['5', 'maj'],\n",
      "       ['3', 'maj'],\n",
      "       ['0', 'min'],\n",
      "       ['0', 'min'],\n",
      "       ['5', 'maj'],\n",
      "       ['3', 'maj']],\n",
      "      dtype='<U21')]\n",
      " ['1297' '3/13/1961' 'Ebony Eyes' 'The Everly Brothers' 'E'\n",
      "  array([['5', 'maj/9'],\n",
      "       ['0', 'maj7/5'],\n",
      "       ['7', '9'],\n",
      "       ['0', 'maj'],\n",
      "       ['0', 'maj'],\n",
      "       ['0', 'maj'],\n",
      "       ['0', 'maj/5'],\n",
      "       ['0', 'maj'],\n",
      "       ['0', 'maj/5'],\n",
      "       ['7', '7'],\n",
      "       ['7', '7'],\n",
      "       ['7', '7'],\n",
      "       ['7', '7'],\n",
      "       ['0', 'maj'],\n",
      "       ['0', 'maj'],\n",
      "       ['5', 'maj'],\n",
      "       ['5', 'maj'],\n",
      "       ['0', 'maj'],\n",
      "       ['7', '7'],\n",
      "       ['0', 'maj'],\n",
      "       ['0', '7'],\n",
      "       ['5', 'maj'],\n",
      "       ['5', 'maj'],\n",
      "       ['0', 'maj'],\n",
      "       ['0', 'maj/5'],\n",
      "       ['5', 'maj'],\n",
      "       ['5', 'maj'],\n",
      "       ['0', 'maj'],\n",
      "       ['7', '7'],\n",
      "       ['7', '7'],\n",
      "       ['0', 'maj'],\n",
      "       ['0', 'maj/5'],\n",
      "       ['5', 'maj'],\n",
      "       ['5', 'maj'],\n",
      "       ['0', 'maj'],\n",
      "       ['7', '7'],\n",
      "       ['0', 'maj'],\n",
      "       ['0', 'maj'],\n",
      "       ['0', 'maj'],\n",
      "       ['0', 'maj/5'],\n",
      "       ['0', 'maj'],\n",
      "       ['0', 'maj/5'],\n",
      "       ['7', '7'],\n",
      "       ['7', '7'],\n",
      "       ['7', '7'],\n",
      "       ['7', '7'],\n",
      "       ['0', 'maj'],\n",
      "       ['0', 'maj/5'],\n",
      "       ['5', 'maj'],\n",
      "       ['5', 'maj'],\n",
      "       ['0', 'maj'],\n",
      "       ['7', '7'],\n",
      "       ['0', 'maj'],\n",
      "       ['0', 'maj'],\n",
      "       ['0', 'maj'],\n",
      "       ['0', 'maj'],\n",
      "       ['7', '7'],\n",
      "       ['7', '7'],\n",
      "       ['0', 'maj'],\n",
      "       ['0', 'maj'],\n",
      "       ['5', 'maj'],\n",
      "       ['5', 'maj'],\n",
      "       ['0', 'maj'],\n",
      "       ['0', 'maj'],\n",
      "       ['5', 'maj'],\n",
      "       ['5', 'maj'],\n",
      "       ['0', 'maj'],\n",
      "       ['7', '7'],\n",
      "       ['0', 'maj'],\n",
      "       ['0', 'maj/5'],\n",
      "       ['0', 'maj'],\n",
      "       ['0', 'maj/5'],\n",
      "       ['7', '7'],\n",
      "       ['7', '7'],\n",
      "       ['7', '7'],\n",
      "       ['7', '7'],\n",
      "       ['0', 'maj'],\n",
      "       ['0', '7'],\n",
      "       ['5', 'maj'],\n",
      "       ['5', 'maj'],\n",
      "       ['0', 'maj'],\n",
      "       ['7', '7'],\n",
      "       ['0', 'maj'],\n",
      "       ['0', '7'],\n",
      "       ['5', 'maj'],\n",
      "       ['5', 'maj'],\n",
      "       ['0', 'maj'],\n",
      "       ['0', 'maj'],\n",
      "       ['5', 'maj'],\n",
      "       ['5', 'maj'],\n",
      "       ['0', 'maj'],\n",
      "       ['0', '7'],\n",
      "       ['5', 'maj'],\n",
      "       ['5', 'maj'],\n",
      "       ['0', 'maj'],\n",
      "       ['0', 'maj'],\n",
      "       ['7', '7'],\n",
      "       ['7', '7'],\n",
      "       ['0', 'maj'],\n",
      "       ['0', 'sus4(9)'],\n",
      "       ['0', 'maj']],\n",
      "      dtype='<U21')]\n",
      " ['1300' '6/29/1991' 'Where The Streets Have No Name' 'Pet Shop Boys' 'Bb'\n",
      "  array([['2', 'min7'],\n",
      "       ['0', 'maj'],\n",
      "       ['2', 'min7'],\n",
      "       ['0', 'maj'],\n",
      "       ['0', 'maj'],\n",
      "       ['0', '7'],\n",
      "       ['0', 'maj'],\n",
      "       ['0', '7'],\n",
      "       ['0', 'maj'],\n",
      "       ['0', '7'],\n",
      "       ['5', 'maj'],\n",
      "       ['5', 'maj'],\n",
      "       ['9', 'min'],\n",
      "       ['9', 'min'],\n",
      "       ['7', 'maj'],\n",
      "       ['7', 'maj'],\n",
      "       ['10', 'maj(9)'],\n",
      "       ['10', 'maj(9)'],\n",
      "       ['10', 'maj(9)'],\n",
      "       ['10', 'maj(9)'],\n",
      "       ['0', 'maj'],\n",
      "       ['0', '7'],\n",
      "       ['0', 'maj'],\n",
      "       ['0', '7'],\n",
      "       ['0', 'maj'],\n",
      "       ['0', '7'],\n",
      "       ['5', 'maj'],\n",
      "       ['5', 'maj'],\n",
      "       ['9', 'min'],\n",
      "       ['9', 'min'],\n",
      "       ['7', 'maj'],\n",
      "       ['7', 'maj'],\n",
      "       ['10', 'maj(9)'],\n",
      "       ['10', 'maj(9)'],\n",
      "       ['10', 'maj(9)'],\n",
      "       ['10', 'maj(9)'],\n",
      "       ['0', 'maj'],\n",
      "       ['0', 'maj'],\n",
      "       ['0', 'maj'],\n",
      "       ['0', 'maj'],\n",
      "       ['5', 'maj'],\n",
      "       ['5', 'maj'],\n",
      "       ['5', 'maj'],\n",
      "       ['5', 'maj'],\n",
      "       ['9', 'min'],\n",
      "       ['9', 'min'],\n",
      "       ['7', 'maj'],\n",
      "       ['7', 'maj'],\n",
      "       ['10', 'maj'],\n",
      "       ['10', 'maj'],\n",
      "       ['10', 'maj'],\n",
      "       ['10', 'maj'],\n",
      "       ['8', 'maj'],\n",
      "       ['8', 'maj'],\n",
      "       ['3', 'maj6'],\n",
      "       ['3', 'maj6'],\n",
      "       ['8', 'maj'],\n",
      "       ['8', 'maj'],\n",
      "       ['3', 'maj6'],\n",
      "       ['0', '7(#9)'],\n",
      "       ['0', '7(#9)'],\n",
      "       ['5', 'min7'],\n",
      "       ['10', '7'],\n",
      "       ['7', 'min7'],\n",
      "       ['0', 'min7'],\n",
      "       ['5', 'min7'],\n",
      "       ['5', 'min7'],\n",
      "       ['10', 'sus4(b7)'],\n",
      "       ['10', 'sus4(b7)'],\n",
      "       ['0', 'maj'],\n",
      "       ['0', '7'],\n",
      "       ['0', 'maj'],\n",
      "       ['0', '7'],\n",
      "       ['0', 'maj'],\n",
      "       ['0', '7'],\n",
      "       ['5', 'maj'],\n",
      "       ['5', 'maj'],\n",
      "       ['9', 'min'],\n",
      "       ['9', 'min'],\n",
      "       ['7', 'maj'],\n",
      "       ['7', 'maj'],\n",
      "       ['10', 'maj(9)'],\n",
      "       ['10', 'maj(9)'],\n",
      "       ['10', 'maj(9)'],\n",
      "       ['10', 'maj(9)'],\n",
      "       ['0', 'maj'],\n",
      "       ['0', 'maj'],\n",
      "       ['0', 'maj'],\n",
      "       ['0', 'maj'],\n",
      "       ['5', 'maj'],\n",
      "       ['5', 'maj'],\n",
      "       ['5', 'maj'],\n",
      "       ['5', 'maj'],\n",
      "       ['9', 'min'],\n",
      "       ['9', 'min'],\n",
      "       ['7', 'maj'],\n",
      "       ['7', 'maj'],\n",
      "       ['10', 'maj(9)'],\n",
      "       ['10', 'maj(9)'],\n",
      "       ['10', 'maj(9)'],\n",
      "       ['10', 'maj(9)'],\n",
      "       ['8', 'maj'],\n",
      "       ['8', 'maj'],\n",
      "       ['3', 'maj6'],\n",
      "       ['0', '7(#9)'],\n",
      "       ['0', '7(#9)'],\n",
      "       ['5', 'min7'],\n",
      "       ['10', '7'],\n",
      "       ['7', 'min7'],\n",
      "       ['0', 'min7'],\n",
      "       ['5', 'min7'],\n",
      "       ['5', 'min7'],\n",
      "       ['10', 'sus4(b7)'],\n",
      "       ['10', 'sus4(b7)'],\n",
      "       ['1', 'maj(9)'],\n",
      "       ['1', 'maj(9)'],\n",
      "       ['1', 'maj(9)'],\n",
      "       ['1', 'maj(9)'],\n",
      "       ['1', 'maj(9)'],\n",
      "       ['1', 'maj(9)'],\n",
      "       ['1', 'maj(9)'],\n",
      "       ['1', 'maj(9)'],\n",
      "       ['1', 'maj(9)'],\n",
      "       ['1', 'maj(9)'],\n",
      "       ['1', 'maj(9)'],\n",
      "       ['1', 'maj(9)'],\n",
      "       ['1', 'maj(9)'],\n",
      "       ['1', 'maj(9)'],\n",
      "       ['1', 'maj(9)'],\n",
      "       ['1', 'maj(9)'],\n",
      "       ['1', 'maj(9)'],\n",
      "       ['1', 'maj(9)'],\n",
      "       ['1', 'maj(9)'],\n",
      "       ['1', 'maj(9)']],\n",
      "      dtype='<U21')]]\n"
     ]
    }
   ],
   "source": [
    "# Clean data as exposed in milestone 2!!!\n",
    "clean_data = np.take(np.concatenate((csv_list[1:], all_num_data), axis=1), [0,1,2,3,5,6], axis=1)\n",
    "print(clean_data)\n",
    "np.save('../dataset/clean_data.npy', clean_data)"
   ]
  },
  {
   "cell_type": "markdown",
   "metadata": {},
   "source": [
    "# Data Visualization"
   ]
  },
  {
   "cell_type": "code",
   "execution_count": 7,
   "metadata": {},
   "outputs": [
    {
     "name": "stdout",
     "output_type": "stream",
     "text": [
      "Number of songs in the dataset :  890\n"
     ]
    }
   ],
   "source": [
    "print('Number of songs in the dataset : ', len(all_data))"
   ]
  },
  {
   "cell_type": "code",
   "execution_count": 8,
   "metadata": {
    "collapsed": true
   },
   "outputs": [],
   "source": [
    "# This is the number of chords per chord progression\n",
    "song_len = [len(all_data[i][2]) for i in range(len(all_data))]"
   ]
  },
  {
   "cell_type": "code",
   "execution_count": 37,
   "metadata": {},
   "outputs": [
    {
     "data": {
      "text/plain": [
       "Text(0.5,1,'Repartition of song lengths in number of chords')"
      ]
     },
     "execution_count": 37,
     "metadata": {},
     "output_type": "execute_result"
    },
    {
     "data": {
      "image/png": "[encoded data removed]",
      "text/plain": [
       "<matplotlib.figure.Figure at 0x1665164dd68>"
      ]
     },
     "metadata": {
      "needs_background": "light"
     },
     "output_type": "display_data"
    }
   ],
   "source": [
    "plt.figure()\n",
    "plt.rcParams[\"figure.figsize\"] = (15,7)\n",
    "\n",
    "n, bins, patches = plt.hist(x=song_len, bins='auto', color='#0504aa',alpha=0.7, rwidth=0.85)\n",
    "plt.grid(axis='y', alpha=0.75)\n",
    "plt.xlabel('Song Length in number of chords')\n",
    "plt.ylabel('Number of songs of that length')\n",
    "plt.title('Repartition of song lengths in number of chords')"
   ]
  },
  {
   "cell_type": "markdown",
   "metadata": {},
   "source": [
    "**This plot represents the song lengths of our dataset in number of chords.**\n",
    "\n",
    "**We see that most songs consists of a sequence of between 80 and 180 chords in total.**"
   ]
  },
  {
   "cell_type": "code",
   "execution_count": 60,
   "metadata": {
    "collapsed": true
   },
   "outputs": [],
   "source": [
    "root_notes = [all_data[i][1] for i in range(len(all_data))]"
   ]
  },
  {
   "cell_type": "code",
   "execution_count": 61,
   "metadata": {
    "collapsed": true
   },
   "outputs": [],
   "source": [
    "root_notes_index = list(set(root_notes))\n",
    "root_notes_count = np.zeros(len(root_notes_index))\n",
    "for note in root_notes:\n",
    "    for i in range(len(root_notes_index)):\n",
    "        if note==root_notes_index[i]:\n",
    "            root_notes_count[i] += 1"
   ]
  },
  {
   "cell_type": "code",
   "execution_count": 62,
   "metadata": {},
   "outputs": [
    {
     "data": {
      "text/plain": [
       "Text(0.5,1,'Number of songs written in each root notes')"
      ]
     },
     "execution_count": 62,
     "metadata": {},
     "output_type": "execute_result"
    },
    {
     "data": {
      "image/png": "[encoded data removed]",
      "text/plain": [
       "<matplotlib.figure.Figure at 0x16654683048>"
      ]
     },
     "metadata": {
      "needs_background": "light"
     },
     "output_type": "display_data"
    }
   ],
   "source": [
    "plt.figure()\n",
    "plt.rcParams[\"figure.figsize\"] = (15,len(root_notes_index))\n",
    "\n",
    "plt.scatter(range(len(root_notes_index)),root_notes_count)\n",
    "plt.xticks(np.arange(len(root_notes_index)), root_notes_index)\n",
    "plt.xlabel('Song Root Note')\n",
    "plt.ylim(0, 200)\n",
    "plt.ylabel('Number of songs written in this root note')\n",
    "plt.title('Number of songs written in each root notes')"
   ]
  },
  {
   "cell_type": "markdown",
   "metadata": {},
   "source": [
    "**We see that more songs are written in A, D or E than for the other root notes.**\n",
    "\n",
    "**Note that the flat and sharp are linked to the related key in the dataset.**"
   ]
  },
  {
   "cell_type": "code",
   "execution_count": 41,
   "metadata": {
    "collapsed": true
   },
   "outputs": [],
   "source": [
    "first_chords = np.zeros(890)\n",
    "second_chords = np.zeros(890)\n",
    "third_chords = np.zeros(890)\n",
    "for k in range(890):\n",
    "    progression = all_data[k][2]\n",
    "    collection = Counter(progression)\n",
    "    \n",
    "    most_common = collection.most_common(3)\n",
    "    first_chords[k] = most_common[0][1]\n",
    "    if len(most_common)>1:\n",
    "        second_chords[k] = most_common[1][1]\n",
    "    else:\n",
    "        second_chords[k] = 0\n",
    "    if len(most_common)>2:\n",
    "        third_chords[k] = most_common[2][1]\n",
    "    else:\n",
    "        third_chords[k] = 0"
   ]
  },
  {
   "cell_type": "code",
   "execution_count": 65,
   "metadata": {},
   "outputs": [
    {
     "data": {
      "text/plain": [
       "Text(0.5,1,'Proportion of the most used chord in each song')"
      ]
     },
     "execution_count": 65,
     "metadata": {},
     "output_type": "execute_result"
    },
    {
     "data": {
      "image/png": "[encoded data removed]",
      "text/plain": [
       "<matplotlib.figure.Figure at 0x16656e097f0>"
      ]
     },
     "metadata": {
      "needs_background": "light"
     },
     "output_type": "display_data"
    }
   ],
   "source": [
    "plt.figure()\n",
    "\n",
    "plt.rcParams[\"figure.figsize\"] = (15,7)\n",
    "\n",
    "n, bins, patches = plt.hist(x=first_chords/song_len, bins='auto', color='#0504aa',alpha=0.7, rwidth=0.85)\n",
    "plt.grid(axis='y', alpha=0.75)\n",
    "plt.ylim(0, 130)\n",
    "plt.xlabel('Percentage of the most used chord in the song')\n",
    "plt.ylabel('Number of songs that have that percentage')\n",
    "plt.title('Proportion of the most used chord in each song')"
   ]
  },
  {
   "cell_type": "code",
   "execution_count": 43,
   "metadata": {},
   "outputs": [
    {
     "name": "stdout",
     "output_type": "stream",
     "text": [
      "Mean of the data for the first plot :  33.5\n"
     ]
    }
   ],
   "source": [
    "print('Mean of the data for the first plot : ', np.round(100*np.mean(first_chords/song_len), 1))"
   ]
  },
  {
   "cell_type": "code",
   "execution_count": 44,
   "metadata": {},
   "outputs": [
    {
     "data": {
      "text/plain": [
       "Text(0.5,1,'Proportion of the second most used chord in each song')"
      ]
     },
     "execution_count": 44,
     "metadata": {},
     "output_type": "execute_result"
    },
    {
     "data": {
      "image/png": "[encoded data removed]",
      "text/plain": [
       "<matplotlib.figure.Figure at 0x16651673a58>"
      ]
     },
     "metadata": {
      "needs_background": "light"
     },
     "output_type": "display_data"
    }
   ],
   "source": [
    "plt.figure()\n",
    "plt.rcParams[\"figure.figsize\"] = (15,7)\n",
    "\n",
    "n, bins, patches = plt.hist(x=second_chords/song_len, bins='auto', color='#0504aa',alpha=0.7, rwidth=0.85)\n",
    "plt.grid(axis='y', alpha=0.75)\n",
    "plt.xlim(0.0,1.0)\n",
    "plt.ylim(0, 130)\n",
    "plt.xlabel('Percentage of the second most used chord in the song')\n",
    "plt.ylabel('Number of songs that have that percentage')\n",
    "plt.title('Proportion of the second most used chord in each song')"
   ]
  },
  {
   "cell_type": "code",
   "execution_count": 45,
   "metadata": {},
   "outputs": [
    {
     "data": {
      "text/plain": [
       "Text(0.5,1,'Proportion of the third most used chord in each song')"
      ]
     },
     "execution_count": 45,
     "metadata": {},
     "output_type": "execute_result"
    },
    {
     "data": {
      "image/png": "[encoded data removed]",
      "text/plain": [
       "<matplotlib.figure.Figure at 0x1665167c828>"
      ]
     },
     "metadata": {
      "needs_background": "light"
     },
     "output_type": "display_data"
    }
   ],
   "source": [
    "plt.figure()\n",
    "plt.rcParams[\"figure.figsize\"] = (15,7)\n",
    "\n",
    "n, bins, patches = plt.hist(x=third_chords/song_len, bins='auto', color='#0504aa',alpha=0.7, rwidth=0.85)\n",
    "plt.grid(axis='y', alpha=0.75)\n",
    "plt.xlim(0.0, 1.0)\n",
    "plt.ylim(0,130)\n",
    "plt.xlabel('Percentage of the third most used chord in the song')\n",
    "plt.ylabel('Number of songs that have that percentage')\n",
    "plt.title('Proportion of the third most used chord in each song')"
   ]
  },
  {
   "cell_type": "markdown",
   "metadata": {},
   "source": [
    "**Those three plots show the percentage the the three most used chords in a song occupy in those songs. We see for example that the most used song occupy in average 33.5% of each songs.**\n",
    "\n",
    "**This could be a raw form of complexity of the songs as if a specific chord occupy most of the song, that leaves less space for diversity in the rest of the song.** "
   ]
  },
  {
   "cell_type": "code",
   "execution_count": 46,
   "metadata": {},
   "outputs": [
    {
     "data": {
      "text/plain": [
       "[('G:maj', 374),\n",
       " ('C:maj', 364),\n",
       " ('D:maj', 337),\n",
       " ('A:maj', 326),\n",
       " ('F:maj', 286),\n",
       " ('Bb:maj', 231),\n",
       " ('E:maj', 209),\n",
       " ('Eb:maj', 175),\n",
       " ('B:maj', 155),\n",
       " ('Ab:maj', 153)]"
      ]
     },
     "execution_count": 46,
     "metadata": {},
     "output_type": "execute_result"
    }
   ],
   "source": [
    "all_chords = [list(set(all_data[k][2])) for k in range(890)]\n",
    "all_chords = sum(all_chords, [])\n",
    "\n",
    "counter_chords = Counter(all_chords)\n",
    "counter_chords.most_common(10)"
   ]
  },
  {
   "cell_type": "markdown",
   "metadata": {},
   "source": [
    "**Those are the 10 most used chords in songs, and the number of appearances for each chord.**"
   ]
  },
  {
   "cell_type": "markdown",
   "metadata": {},
   "source": [
    "# Data visualization on clean data"
   ]
  },
  {
   "cell_type": "code",
   "execution_count": 47,
   "metadata": {},
   "outputs": [
    {
     "data": {
      "text/plain": [
       "Text(0.5,1,'Repartition of the songs according to the years of release of the songs')"
      ]
     },
     "execution_count": 47,
     "metadata": {},
     "output_type": "execute_result"
    },
    {
     "data": {
      "image/png": "[encoded data removed]",
      "text/plain": [
       "<matplotlib.figure.Figure at 0x1665321df98>"
      ]
     },
     "metadata": {
      "needs_background": "light"
     },
     "output_type": "display_data"
    }
   ],
   "source": [
    "years_release = [int(clean_data[k][1].split('/')[2]) for k in range(890)]\n",
    "\n",
    "plt.figure()\n",
    "plt.rcParams[\"figure.figsize\"] = (15,7)\n",
    "\n",
    "n, bins, patches = plt.hist(x=years_release, bins=34, color='#0504aa',alpha=0.7, rwidth=0.85)\n",
    "plt.grid(axis='y', alpha=0.75)\n",
    "plt.xlabel('Year of release')\n",
    "plt.ylabel('Number of songs released that year')\n",
    "plt.title('Repartition of the songs according to the years of release of the songs')"
   ]
  },
  {
   "cell_type": "markdown",
   "metadata": {},
   "source": [
    "**We see that we have a rather uniform repartition of the songs among the years of release.**"
   ]
  },
  {
   "cell_type": "code",
   "execution_count": 51,
   "metadata": {},
   "outputs": [
    {
     "data": {
      "text/plain": [
       "Text(0.5,1,'Repartition of chord notes relative to the key of the song')"
      ]
     },
     "execution_count": 51,
     "metadata": {},
     "output_type": "execute_result"
    },
    {
     "data": {
      "image/png": "[encoded data removed]",
      "text/plain": [
       "<matplotlib.figure.Figure at 0x1665467db38>"
      ]
     },
     "metadata": {
      "needs_background": "light"
     },
     "output_type": "display_data"
    }
   ],
   "source": [
    "relative_chord_note = [int(clean_data[k][5][m][0]) for k in range(890) for m in range(clean_data[k][5].shape[0]) ]\n",
    "\n",
    "plt.figure()\n",
    "plt.rcParams[\"figure.figsize\"] = (15,7)\n",
    "\n",
    "n, bins, patches = plt.hist(x=relative_chord_note, bins=12, density=True, color='#0504aa',alpha=0.7, rwidth=0.85)\n",
    "plt.grid(axis='y', alpha=0.75)\n",
    "plt.xticks(range(0,12))\n",
    "plt.xlabel('Semitones separating the chord note from the key note of the song')\n",
    "plt.ylabel('Percentage of chords in that relative note')\n",
    "plt.title('Repartition of chord notes relative to the key of the song')"
   ]
  },
  {
   "cell_type": "markdown",
   "metadata": {},
   "source": [
    "**We see that in a song mainly 3 chord notes are used : the chords in the key of the song, the chords in the fourth of this key and the chords in the fifth of this key.**"
   ]
  },
  {
   "cell_type": "code",
   "execution_count": 52,
   "metadata": {},
   "outputs": [
    {
     "data": {
      "text/plain": [
       "Text(0.5,1,'Repartition of the 10 most used chord modes')"
      ]
     },
     "execution_count": 52,
     "metadata": {},
     "output_type": "execute_result"
    },
    {
     "data": {
      "image/png": "[encoded data removed]",
      "text/plain": [
       "<matplotlib.figure.Figure at 0x1665467ddd8>"
      ]
     },
     "metadata": {
      "needs_background": "light"
     },
     "output_type": "display_data"
    }
   ],
   "source": [
    "mode_chord = [clean_data[k][5][m][1] for k in range(890) for m in range(clean_data[k][5].shape[0]) ]\n",
    "most_used_modes = list(Counter(mode_chord).most_common(10))\n",
    "\n",
    "x_data = [most_used_modes[k][0] for k in range(10)]\n",
    "y_data = [most_used_modes[k][1] for k in range(10)]\n",
    "\n",
    "plt.figure()\n",
    "plt.rcParams[\"figure.figsize\"] = (15,7)\n",
    "\n",
    "plt.scatter(x_data, y_data)\n",
    "plt.xlabel('Chord mode')\n",
    "plt.ylabel('Number of chords in that mode')\n",
    "plt.title('Repartition of the 10 most used chord modes')"
   ]
  },
  {
   "cell_type": "markdown",
   "metadata": {},
   "source": [
    "**Here we have the 10 most used modes for the chords in our dataset. As expected, the major mode is largely the most used. The minor, dominant, minor 7 and major 7 are the 4 most used modes after that.**"
   ]
  },
  {
   "cell_type": "code",
   "execution_count": null,
   "metadata": {
    "collapsed": true
   },
   "outputs": [],
   "source": []
  }
 ],
 "metadata": {
  "kernelspec": {
   "display_name": "Python 3",
   "language": "python",
   "name": "python3"
  },
  "language_info": {
   "codemirror_mode": {
    "name": "ipython",
    "version": 3
   },
   "file_extension": ".py",
   "mimetype": "text/x-python",
   "name": "python",
   "nbconvert_exporter": "python",
   "pygments_lexer": "ipython3",
   "version": "3.6.8"
  }
 },
 "nbformat": 4,
 "nbformat_minor": 2
}
