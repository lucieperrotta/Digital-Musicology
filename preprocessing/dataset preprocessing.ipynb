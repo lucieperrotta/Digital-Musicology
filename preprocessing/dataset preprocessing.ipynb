{
 "cells": [
  {
   "cell_type": "code",
   "execution_count": 1,
   "metadata": {},
   "outputs": [],
   "source": [
    "import glob, os\n",
    "import numpy as np\n",
    "import re\n",
    "import matplotlib.pyplot as plt\n",
    "import matplotlib\n",
    "from collections import Counter\n",
    "import copy"
   ]
  },
  {
   "cell_type": "code",
   "execution_count": 2,
   "metadata": {},
   "outputs": [],
   "source": [
    "cleaned_path = '../dataset/cleaned/'\n",
    "raw_path = '../dataset/McGill-Billboard/'\n",
    "files = glob.glob(raw_path + '/**/*.txt', recursive=True)"
   ]
  },
  {
   "cell_type": "code",
   "execution_count": 3,
   "metadata": {},
   "outputs": [],
   "source": [
    "# Convert letter keys into numeric values, relative to the tonic\n",
    "def key2num(string):\n",
    "    return (string.replace('A#', '1').replace('Ab', '11')\n",
    "            .replace('B#', '3').replace('Bb', '1')\n",
    "            .replace('C#', '4').replace('Cb', '2')\n",
    "            .replace('D#', '6').replace('Db', '4')\n",
    "            .replace('E#', '8').replace('Eb', '6')\n",
    "            .replace('F#', '9').replace('Fb', '7')\n",
    "            .replace('G#', '11').replace('Gb', '9')\n",
    "            .replace('A', '0')\n",
    "            .replace('B', '2')\n",
    "            .replace('C', '3')\n",
    "            .replace('D', '5')\n",
    "            .replace('E', '7')\n",
    "            .replace('F', '8')\n",
    "            .replace('G', '10'))"
   ]
  },
  {
   "cell_type": "markdown",
   "metadata": {},
   "source": [
    "# Raw data import + preprocess"
   ]
  },
  {
   "cell_type": "code",
   "execution_count": 4,
   "metadata": {},
   "outputs": [],
   "source": [
    "# Get all the raw data into a python list\n",
    "all_data = np.empty((890, 3), dtype=object)\n",
    "all_num_data = np.empty((890, 3), dtype=object)\n",
    "\n",
    "for i in range(len(files)):\n",
    "\n",
    "    with open(files[i], 'r') as myfile:\n",
    "        data = myfile.read().replace('\\n', ' ').replace('\\t', ' ')\n",
    "        num_data = key2num(data)       \n",
    "        \n",
    "    index = re.findall(r'\\d+',files[i])[0]\n",
    "    chord_list = re.findall(\"[^ ]+:[^ ]+\", data)\n",
    "    tonic = re.findall(\"tonic: [^ ]+\", data)[0].replace(\"tonic: \", \"\")\n",
    "\n",
    "    num_tonic = int(re.findall(\"tonic: [^ ]+\", num_data)[0].replace(\"tonic: \", \"\"))\n",
    "    num_chord_list1 = re.findall(\"[0-9]+:\", num_data)\n",
    "    num_chord_list1 = [(int(element.replace(\":\", \"\"))-num_tonic)%12 for element in num_chord_list1]\n",
    "    num_chord_list2 = re.findall(\":[^ ]+\", num_data)\n",
    "    num_chord_list2 = [element.replace(\":\", \"\") for element in num_chord_list2]    \n",
    "    \n",
    "    all_data[i] =  (index, tonic, chord_list)\n",
    "    all_num_data[i] = (index, tonic, np.dstack((num_chord_list1, num_chord_list2))[0])"
   ]
  },
  {
   "cell_type": "code",
   "execution_count": 5,
   "metadata": {},
   "outputs": [],
   "source": [
    "import csv\n",
    "\n",
    "with open('../dataset/index.csv') as csv_file:\n",
    "    csv_reader = csv.reader(csv_file, delimiter=',')\n",
    "    csv_list = np.asarray(list(csv_reader), dtype=object)\n",
    "csv_list = np.take(csv_list, [0,1,4,5], axis=1 )"
   ]
  },
  {
   "cell_type": "code",
   "execution_count": 7,
   "metadata": {},
   "outputs": [],
   "source": [
    "# Clean data as exposed in milestone 2!!!\n",
    "clean_data = np.take(np.concatenate((csv_list[1:], all_num_data), axis=1), [0,1,2,3,5,6], axis=1)\n",
    "np.save('../dataset/clean_data.npy', clean_data)"
   ]
  },
  {
   "cell_type": "code",
   "execution_count": 8,
   "metadata": {},
   "outputs": [],
   "source": [
    "# Now we remove the chords that are twice the same in a row\n",
    "removed_duplicates = copy.deepcopy(clean_data)\n",
    "\n",
    "for ele in removed_duplicates:\n",
    "    tmp_list = []\n",
    "    list_chords = ele[5]\n",
    "    for idx, chord in enumerate(list_chords):\n",
    "        if((idx < len(list_chords) - 1) and chord[0] != list_chords[idx + 1][0]):\n",
    "            tmp_list.append(chord)\n",
    "    ele[5] = np.array(tmp_list)\n",
    "    \n",
    "np.save('../dataset/removed_duplicates.npy', removed_duplicates)"
   ]
  }
 ],
 "metadata": {
  "kernelspec": {
   "display_name": "Python 3",
   "language": "python",
   "name": "python3"
  },
  "language_info": {
   "codemirror_mode": {
    "name": "ipython",
    "version": 3
   },
   "file_extension": ".py",
   "mimetype": "text/x-python",
   "name": "python",
   "nbconvert_exporter": "python",
   "pygments_lexer": "ipython3",
   "version": "3.7.3"
  }
 },
 "nbformat": 4,
 "nbformat_minor": 2
}
